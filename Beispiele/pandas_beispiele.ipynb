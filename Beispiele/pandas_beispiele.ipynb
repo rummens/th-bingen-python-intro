{
 "cells": [
  {
   "cell_type": "code",
   "metadata": {
    "ExecuteTime": {
     "end_time": "2024-09-13T18:39:30.934008Z",
     "start_time": "2024-09-13T18:39:30.929854Z"
    }
   },
   "source": [
    "import numpy as np\n",
    "import pandas as pd"
   ],
   "outputs": [],
   "execution_count": 186
  },
  {
   "cell_type": "code",
   "metadata": {
    "ExecuteTime": {
     "end_time": "2024-09-13T18:39:31.187351Z",
     "start_time": "2024-09-13T18:39:31.183216Z"
    }
   },
   "source": [
    "np.random.seed(0)  # Nur zur Übung, damit die Zufallszahlen reproduzierbar sind"
   ],
   "outputs": [],
   "execution_count": 187
  },
  {
   "cell_type": "markdown",
   "metadata": {},
   "source": [
    "SERIES"
   ]
  },
  {
   "cell_type": "code",
   "metadata": {
    "ExecuteTime": {
     "end_time": "2024-09-13T18:39:31.213466Z",
     "start_time": "2024-09-13T18:39:31.209263Z"
    }
   },
   "source": [
    "data = [10, 20, 30, 40]\n",
    "series = pd.Series(data)\n",
    "print(\"Einfache Series:\")\n",
    "print(series)"
   ],
   "outputs": [
    {
     "name": "stdout",
     "output_type": "stream",
     "text": [
      "Einfache Series:\n",
      "0    10\n",
      "1    20\n",
      "2    30\n",
      "3    40\n",
      "dtype: int64\n"
     ]
    }
   ],
   "execution_count": 188
  },
  {
   "cell_type": "code",
   "metadata": {
    "ExecuteTime": {
     "end_time": "2024-09-13T18:39:31.254887Z",
     "start_time": "2024-09-13T18:39:31.252163Z"
    }
   },
   "source": [
    "index = ['a', 'b', 'c', 'd']\n",
    "series_format = pd.Series(data, index=index)\n",
    "print(\"Series mit Index:\")\n",
    "print(series_format)"
   ],
   "outputs": [
    {
     "name": "stdout",
     "output_type": "stream",
     "text": [
      "Series mit Index:\n",
      "a    10\n",
      "b    20\n",
      "c    30\n",
      "d    40\n",
      "dtype: int64\n"
     ]
    }
   ],
   "execution_count": 189
  },
  {
   "cell_type": "code",
   "metadata": {
    "ExecuteTime": {
     "end_time": "2024-09-13T18:39:31.278346Z",
     "start_time": "2024-09-13T18:39:31.275760Z"
    }
   },
   "source": [
    "data_dict = {'a': 10, 'b': 20, 'c': 30, 'd': 40}\n",
    "series_dict = pd.Series(data_dict)\n",
    "print(\"Series aus Dictionary:\")\n",
    "print(series_dict)"
   ],
   "outputs": [
    {
     "name": "stdout",
     "output_type": "stream",
     "text": [
      "Series aus Dictionary:\n",
      "a    10\n",
      "b    20\n",
      "c    30\n",
      "d    40\n",
      "dtype: int64\n"
     ]
    }
   ],
   "execution_count": 190
  },
  {
   "cell_type": "code",
   "metadata": {
    "ExecuteTime": {
     "end_time": "2024-09-13T18:39:31.323891Z",
     "start_time": "2024-09-13T18:39:31.321894Z"
    }
   },
   "source": [
    "print(\"Element an Position 'b':\")\n",
    "print(series_dict['b'])  # Ausgabe: 20"
   ],
   "outputs": [
    {
     "name": "stdout",
     "output_type": "stream",
     "text": [
      "Element an Position 'b':\n",
      "20\n"
     ]
    }
   ],
   "execution_count": 191
  },
  {
   "cell_type": "code",
   "metadata": {
    "ExecuteTime": {
     "end_time": "2024-09-13T18:39:31.338640Z",
     "start_time": "2024-09-13T18:39:31.335670Z"
    }
   },
   "source": [
    "print(\"Elemente an Position 'a' und 'c':\")\n",
    "print(series_dict[['a', 'c']])"
   ],
   "outputs": [
    {
     "name": "stdout",
     "output_type": "stream",
     "text": [
      "Elemente an Position 'a' und 'c':\n",
      "a    10\n",
      "c    30\n",
      "dtype: int64\n"
     ]
    }
   ],
   "execution_count": 192
  },
  {
   "cell_type": "code",
   "metadata": {
    "ExecuteTime": {
     "end_time": "2024-09-13T18:39:31.354797Z",
     "start_time": "2024-09-13T18:39:31.352373Z"
    }
   },
   "source": [
    "data_nan = [10, 20, None, 40]\n",
    "series_nan = pd.Series(data_nan)\n",
    "print(\"Series mit NaN:\")\n",
    "print(series_nan)"
   ],
   "outputs": [
    {
     "name": "stdout",
     "output_type": "stream",
     "text": [
      "Series mit NaN:\n",
      "0    10.0\n",
      "1    20.0\n",
      "2     NaN\n",
      "3    40.0\n",
      "dtype: float64\n"
     ]
    }
   ],
   "execution_count": 193
  },
  {
   "cell_type": "markdown",
   "metadata": {},
   "source": "DATAFRAMES"
  },
  {
   "cell_type": "code",
   "metadata": {
    "ExecuteTime": {
     "end_time": "2024-09-13T18:39:31.401323Z",
     "start_time": "2024-09-13T18:39:31.397086Z"
    }
   },
   "source": [
    "# Zuweisung von Zufallszahlen zu einem DataFrame\n",
    "data = np.random.randint(-100, 100, (5, 4))\n",
    "df = pd.DataFrame(data)\n",
    "print(\"DataFrame aus Zufallszahlen:\")\n",
    "print(df)"
   ],
   "outputs": [
    {
     "name": "stdout",
     "output_type": "stream",
     "text": [
      "DataFrame aus Zufallszahlen:\n",
      "    0   1   2   3\n",
      "0  72 -53  17  92\n",
      "1 -33  95   3 -91\n",
      "2 -79 -64 -13 -30\n",
      "3 -12  40 -42  93\n",
      "4 -61 -13  74 -12\n"
     ]
    }
   ],
   "execution_count": 194
  },
  {
   "cell_type": "code",
   "metadata": {
    "ExecuteTime": {
     "end_time": "2024-09-13T18:39:31.413763Z",
     "start_time": "2024-09-13T18:39:31.410602Z"
    }
   },
   "source": [
    "columns = [\"A\", \"B\", \"C\", \"D\"]\n",
    "index = [\"Z1\", \"Z2\", \"Z3\", \"Z4\", \"Z5\"]\n",
    "df_format = pd.DataFrame(data, columns=columns, index=index)\n",
    "print(\"DataFrame mit Spalten- und Zeilenbezeichnungen:\")\n",
    "print(df_format)"
   ],
   "outputs": [
    {
     "name": "stdout",
     "output_type": "stream",
     "text": [
      "DataFrame mit Spalten- und Zeilenbezeichnungen:\n",
      "     A   B   C   D\n",
      "Z1  72 -53  17  92\n",
      "Z2 -33  95   3 -91\n",
      "Z3 -79 -64 -13 -30\n",
      "Z4 -12  40 -42  93\n",
      "Z5 -61 -13  74 -12\n"
     ]
    }
   ],
   "execution_count": 195
  },
  {
   "cell_type": "code",
   "metadata": {
    "ExecuteTime": {
     "end_time": "2024-09-13T18:39:31.429044Z",
     "start_time": "2024-09-13T18:39:31.426237Z"
    }
   },
   "source": [
    "df_format_drop = df_format.drop(\"A\", axis=1)\n",
    "print(\"DataFrame mit gelöschter Spalte A:\")\n",
    "print(df_format_drop)"
   ],
   "outputs": [
    {
     "name": "stdout",
     "output_type": "stream",
     "text": [
      "DataFrame mit gelöschter Spalte A:\n",
      "     B   C   D\n",
      "Z1 -53  17  92\n",
      "Z2  95   3 -91\n",
      "Z3 -64 -13 -30\n",
      "Z4  40 -42  93\n",
      "Z5 -13  74 -12\n"
     ]
    }
   ],
   "execution_count": 196
  },
  {
   "cell_type": "code",
   "metadata": {
    "ExecuteTime": {
     "end_time": "2024-09-13T18:39:31.465469Z",
     "start_time": "2024-09-13T18:39:31.463294Z"
    }
   },
   "source": [
    "# Zugriff auf Zeile \"Z3\"\n",
    "print(\"Zeile Z3:\")\n",
    "print(df_format.loc[\"Z3\"])"
   ],
   "outputs": [
    {
     "name": "stdout",
     "output_type": "stream",
     "text": [
      "Zeile Z3:\n",
      "A   -79\n",
      "B   -64\n",
      "C   -13\n",
      "D   -30\n",
      "Name: Z3, dtype: int64\n"
     ]
    }
   ],
   "execution_count": 197
  },
  {
   "cell_type": "code",
   "metadata": {
    "ExecuteTime": {
     "end_time": "2024-09-13T18:39:31.520893Z",
     "start_time": "2024-09-13T18:39:31.517720Z"
    }
   },
   "source": [
    "print(\"Zeilen Z1 und Z2, Spalten A und C:\")\n",
    "print(df_format.loc[[\"Z1\", \"Z2\"], [\"A\", \"C\"]])"
   ],
   "outputs": [
    {
     "name": "stdout",
     "output_type": "stream",
     "text": [
      "Zeilen Z1 und Z2, Spalten A und C:\n",
      "     A   C\n",
      "Z1  72  17\n",
      "Z2 -33   3\n"
     ]
    }
   ],
   "execution_count": 198
  },
  {
   "cell_type": "code",
   "metadata": {
    "ExecuteTime": {
     "end_time": "2024-09-13T18:39:31.558508Z",
     "start_time": "2024-09-13T18:39:31.556296Z"
    }
   },
   "source": [
    "print(\"Zeile an Position 2:\")\n",
    "print(df_format.iloc[2])"
   ],
   "outputs": [
    {
     "name": "stdout",
     "output_type": "stream",
     "text": [
      "Zeile an Position 2:\n",
      "A   -79\n",
      "B   -64\n",
      "C   -13\n",
      "D   -30\n",
      "Name: Z3, dtype: int64\n"
     ]
    }
   ],
   "execution_count": 199
  },
  {
   "cell_type": "code",
   "metadata": {
    "ExecuteTime": {
     "end_time": "2024-09-13T18:39:31.572007Z",
     "start_time": "2024-09-13T18:39:31.569305Z"
    }
   },
   "source": [
    "print(\"Zeilen 0 und 1, Spalten 0 und 2:\")\n",
    "print(df_format.iloc[0:2, [0, 2]])"
   ],
   "outputs": [
    {
     "name": "stdout",
     "output_type": "stream",
     "text": [
      "Zeilen 0 und 1, Spalten 0 und 2:\n",
      "     A   C\n",
      "Z1  72  17\n",
      "Z2 -33   3\n"
     ]
    }
   ],
   "execution_count": 200
  },
  {
   "cell_type": "code",
   "metadata": {
    "ExecuteTime": {
     "end_time": "2024-09-13T18:39:31.585286Z",
     "start_time": "2024-09-13T18:39:31.583384Z"
    }
   },
   "source": [
    "print(\"Wert an Zeile 3, Spalte 1:\")\n",
    "print(df_format.iloc[3, 1])"
   ],
   "outputs": [
    {
     "name": "stdout",
     "output_type": "stream",
     "text": [
      "Wert an Zeile 3, Spalte 1:\n",
      "40\n"
     ]
    }
   ],
   "execution_count": 201
  },
  {
   "cell_type": "markdown",
   "metadata": {},
   "source": [
    "DATAFRAME - Logik"
   ]
  },
  {
   "cell_type": "code",
   "metadata": {
    "ExecuteTime": {
     "end_time": "2024-09-13T18:39:31.641723Z",
     "start_time": "2024-09-13T18:39:31.638861Z"
    }
   },
   "source": [
    "print(\"DataFrame mit Boolean anstelle von Werten:\")\n",
    "print(df_format > 0)"
   ],
   "outputs": [
    {
     "name": "stdout",
     "output_type": "stream",
     "text": [
      "DataFrame mit Boolean anstelle von Werten:\n",
      "        A      B      C      D\n",
      "Z1   True  False   True   True\n",
      "Z2  False   True   True  False\n",
      "Z3  False  False  False  False\n",
      "Z4  False   True  False   True\n",
      "Z5  False  False   True  False\n"
     ]
    }
   ],
   "execution_count": 202
  },
  {
   "cell_type": "code",
   "metadata": {
    "ExecuteTime": {
     "end_time": "2024-09-13T18:39:31.654933Z",
     "start_time": "2024-09-13T18:39:31.651624Z"
    }
   },
   "source": [
    "print(\"DataFrame mit Werten größer als 0:\")\n",
    "print(df_format[df_format > 0])"
   ],
   "outputs": [
    {
     "name": "stdout",
     "output_type": "stream",
     "text": [
      "DataFrame mit Werten größer als 0:\n",
      "       A     B     C     D\n",
      "Z1  72.0   NaN  17.0  92.0\n",
      "Z2   NaN  95.0   3.0   NaN\n",
      "Z3   NaN   NaN   NaN   NaN\n",
      "Z4   NaN  40.0   NaN  93.0\n",
      "Z5   NaN   NaN  74.0   NaN\n"
     ]
    }
   ],
   "execution_count": 203
  },
  {
   "cell_type": "code",
   "metadata": {
    "ExecuteTime": {
     "end_time": "2024-09-13T18:39:31.670537Z",
     "start_time": "2024-09-13T18:39:31.668020Z"
    }
   },
   "source": [
    "print(\"Werte größer als 0 in Spalte A:\")\n",
    "print(df_format[df_format[\"A\"] > 0])"
   ],
   "outputs": [
    {
     "name": "stdout",
     "output_type": "stream",
     "text": [
      "Werte größer als 0 in Spalte A:\n",
      "     A   B   C   D\n",
      "Z1  72 -53  17  92\n"
     ]
    }
   ],
   "execution_count": 204
  },
  {
   "cell_type": "code",
   "metadata": {
    "ExecuteTime": {
     "end_time": "2024-09-13T18:39:31.710871Z",
     "start_time": "2024-09-13T18:39:31.708354Z"
    }
   },
   "source": [
    "print(\"Werte größer als 0 in Spalte A und dann nur Spalte B und D:\")\n",
    "print(df_format[df_format[\"A\"] > 0][[\"B\", \"D\"]])"
   ],
   "outputs": [
    {
     "name": "stdout",
     "output_type": "stream",
     "text": [
      "Werte größer als 0 in Spalte A und dann nur Spalte B und D:\n",
      "     B   D\n",
      "Z1 -53  92\n"
     ]
    }
   ],
   "execution_count": 205
  },
  {
   "cell_type": "code",
   "metadata": {
    "ExecuteTime": {
     "end_time": "2024-09-13T18:39:31.730451Z",
     "start_time": "2024-09-13T18:39:31.727809Z"
    }
   },
   "source": [
    "print(\"Werte größer als 0 in Spalte A oder C:\")\n",
    "print(df_format[(df_format[\"A\"] > 0) | (df_format[\"C\"] > 0)])"
   ],
   "outputs": [
    {
     "name": "stdout",
     "output_type": "stream",
     "text": [
      "Werte größer als 0 in Spalte A oder C:\n",
      "     A   B   C   D\n",
      "Z1  72 -53  17  92\n",
      "Z2 -33  95   3 -91\n",
      "Z5 -61 -13  74 -12\n"
     ]
    }
   ],
   "execution_count": 206
  },
  {
   "metadata": {},
   "cell_type": "markdown",
   "source": "DATAFRAME - Index und Zusammenfassungen"
  },
  {
   "metadata": {
    "ExecuteTime": {
     "end_time": "2024-09-13T18:39:31.753036Z",
     "start_time": "2024-09-13T18:39:31.750441Z"
    }
   },
   "cell_type": "code",
   "source": [
    "new_index = [\"N1\", \"N2\", \"N3\", \"N4\", \"N5\"]\n",
    "df_format.index = new_index\n",
    "print(\"DataFrame mit neuem Index:\")\n",
    "print(df_format)"
   ],
   "outputs": [
    {
     "name": "stdout",
     "output_type": "stream",
     "text": [
      "DataFrame mit neuem Index:\n",
      "     A   B   C   D\n",
      "N1  72 -53  17  92\n",
      "N2 -33  95   3 -91\n",
      "N3 -79 -64 -13 -30\n",
      "N4 -12  40 -42  93\n",
      "N5 -61 -13  74 -12\n"
     ]
    }
   ],
   "execution_count": 207
  },
  {
   "metadata": {
    "ExecuteTime": {
     "end_time": "2024-09-13T18:39:31.803546Z",
     "start_time": "2024-09-13T18:39:31.797153Z"
    }
   },
   "cell_type": "code",
   "source": [
    "print(\"Statistische Kennzahlen der Daten:\")\n",
    "print(df_format.describe())"
   ],
   "outputs": [
    {
     "name": "stdout",
     "output_type": "stream",
     "text": [
      "Statistische Kennzahlen der Daten:\n",
      "               A          B          C          D\n",
      "count   5.000000   5.000000   5.000000   5.000000\n",
      "mean  -22.600000   1.000000   7.800000  10.400000\n",
      "std    58.790305  66.509398  43.019763  80.463035\n",
      "min   -79.000000 -64.000000 -42.000000 -91.000000\n",
      "25%   -61.000000 -53.000000 -13.000000 -30.000000\n",
      "50%   -33.000000 -13.000000   3.000000 -12.000000\n",
      "75%   -12.000000  40.000000  17.000000  92.000000\n",
      "max    72.000000  95.000000  74.000000  93.000000\n"
     ]
    }
   ],
   "execution_count": 208
  },
  {
   "metadata": {},
   "cell_type": "markdown",
   "source": ""
  },
  {
   "metadata": {
    "ExecuteTime": {
     "end_time": "2024-09-13T18:39:31.829631Z",
     "start_time": "2024-09-13T18:39:31.823500Z"
    }
   },
   "cell_type": "code",
   "source": [
    "print(\"Informationen zum DataFrame:\")\n",
    "print(df_format.info())"
   ],
   "outputs": [
    {
     "name": "stdout",
     "output_type": "stream",
     "text": [
      "Informationen zum DataFrame:\n",
      "<class 'pandas.core.frame.DataFrame'>\n",
      "Index: 5 entries, N1 to N5\n",
      "Data columns (total 4 columns):\n",
      " #   Column  Non-Null Count  Dtype\n",
      "---  ------  --------------  -----\n",
      " 0   A       5 non-null      int64\n",
      " 1   B       5 non-null      int64\n",
      " 2   C       5 non-null      int64\n",
      " 3   D       5 non-null      int64\n",
      "dtypes: int64(4)\n",
      "memory usage: 200.0+ bytes\n",
      "None\n"
     ]
    }
   ],
   "execution_count": 209
  },
  {
   "metadata": {
    "ExecuteTime": {
     "end_time": "2024-09-13T18:39:31.861798Z",
     "start_time": "2024-09-13T18:39:31.859702Z"
    }
   },
   "cell_type": "code",
   "source": [
    "print(\"Datentypen der Spalten:\")\n",
    "print(df_format.dtypes)"
   ],
   "outputs": [
    {
     "name": "stdout",
     "output_type": "stream",
     "text": [
      "Datentypen der Spalten:\n",
      "A    int64\n",
      "B    int64\n",
      "C    int64\n",
      "D    int64\n",
      "dtype: object\n"
     ]
    }
   ],
   "execution_count": 210
  },
  {
   "metadata": {},
   "cell_type": "markdown",
   "source": "DATAFRAME - Standardoperationen"
  },
  {
   "metadata": {
    "ExecuteTime": {
     "end_time": "2024-09-13T18:39:31.891408Z",
     "start_time": "2024-09-13T18:39:31.889087Z"
    }
   },
   "cell_type": "code",
   "source": [
    "print(\"Summe der Werte in den Spalten:\")\n",
    "print(df_format.sum())"
   ],
   "outputs": [
    {
     "name": "stdout",
     "output_type": "stream",
     "text": [
      "Summe der Werte in den Spalten:\n",
      "A   -113\n",
      "B      5\n",
      "C     39\n",
      "D     52\n",
      "dtype: int64\n"
     ]
    }
   ],
   "execution_count": 211
  },
  {
   "metadata": {
    "ExecuteTime": {
     "end_time": "2024-09-13T18:39:31.918698Z",
     "start_time": "2024-09-13T18:39:31.916382Z"
    }
   },
   "cell_type": "code",
   "source": [
    "print(\"Mittelwert der Werte in den Spalten:\")\n",
    "print(df_format.mean())  # Alternativ für Zeilen: df_format.mean(axis=1)"
   ],
   "outputs": [
    {
     "name": "stdout",
     "output_type": "stream",
     "text": [
      "Mittelwert der Werte in den Spalten:\n",
      "A   -22.6\n",
      "B     1.0\n",
      "C     7.8\n",
      "D    10.4\n",
      "dtype: float64\n"
     ]
    }
   ],
   "execution_count": 212
  },
  {
   "metadata": {
    "ExecuteTime": {
     "end_time": "2024-09-13T18:39:31.939939Z",
     "start_time": "2024-09-13T18:39:31.937814Z"
    }
   },
   "cell_type": "code",
   "source": [
    "print(\"Minimum der Werte in den Spalten:\")\n",
    "print(df_format.min())  # Alternativ für Zeilen: df_format.min(axis=1)"
   ],
   "outputs": [
    {
     "name": "stdout",
     "output_type": "stream",
     "text": [
      "Minimum der Werte in den Spalten:\n",
      "A   -79\n",
      "B   -64\n",
      "C   -42\n",
      "D   -91\n",
      "dtype: int64\n"
     ]
    }
   ],
   "execution_count": 213
  },
  {
   "metadata": {
    "ExecuteTime": {
     "end_time": "2024-09-13T18:39:31.983279Z",
     "start_time": "2024-09-13T18:39:31.980427Z"
    }
   },
   "cell_type": "code",
   "source": [
    "print(\"Maximum der Werte in den Spalten:\")\n",
    "print(df_format.max())  # Alternativ für Zeilen: df_format.max(axis=1)"
   ],
   "outputs": [
    {
     "name": "stdout",
     "output_type": "stream",
     "text": [
      "Maximum der Werte in den Spalten:\n",
      "A    72\n",
      "B    95\n",
      "C    74\n",
      "D    93\n",
      "dtype: int64\n"
     ]
    }
   ],
   "execution_count": 214
  },
  {
   "metadata": {
    "ExecuteTime": {
     "end_time": "2024-09-13T18:39:31.993542Z",
     "start_time": "2024-09-13T18:39:31.991464Z"
    }
   },
   "cell_type": "code",
   "source": [
    "print(\"Median der Werte in den Spalten:\")\n",
    "print(df_format.median())  # Alternativ für Zeilen: df_format.median(axis=1)"
   ],
   "outputs": [
    {
     "name": "stdout",
     "output_type": "stream",
     "text": [
      "Median der Werte in den Spalten:\n",
      "A   -33.0\n",
      "B   -13.0\n",
      "C     3.0\n",
      "D   -12.0\n",
      "dtype: float64\n"
     ]
    }
   ],
   "execution_count": 215
  },
  {
   "metadata": {
    "ExecuteTime": {
     "end_time": "2024-09-13T18:39:32.007803Z",
     "start_time": "2024-09-13T18:39:32.005641Z"
    }
   },
   "cell_type": "code",
   "source": [
    "print(\"Standardabweichung der Werte in den Spalten:\")\n",
    "print(df_format.std())  # Alternativ für Zeilen: df_format.std(axis=1)"
   ],
   "outputs": [
    {
     "name": "stdout",
     "output_type": "stream",
     "text": [
      "Standardabweichung der Werte in den Spalten:\n",
      "A    58.790305\n",
      "B    66.509398\n",
      "C    43.019763\n",
      "D    80.463035\n",
      "dtype: float64\n"
     ]
    }
   ],
   "execution_count": 216
  },
  {
   "metadata": {
    "ExecuteTime": {
     "end_time": "2024-09-13T18:39:32.051940Z",
     "start_time": "2024-09-13T18:39:32.049472Z"
    }
   },
   "cell_type": "code",
   "source": [
    "print(\"Kumulative Summe der Werte in den Spalten:\")\n",
    "print(df_format.cumsum())"
   ],
   "outputs": [
    {
     "name": "stdout",
     "output_type": "stream",
     "text": [
      "Kumulative Summe der Werte in den Spalten:\n",
      "      A   B   C   D\n",
      "N1   72 -53  17  92\n",
      "N2   39  42  20   1\n",
      "N3  -40 -22   7 -29\n",
      "N4  -52  18 -35  64\n",
      "N5 -113   5  39  52\n"
     ]
    }
   ],
   "execution_count": 217
  },
  {
   "metadata": {},
   "cell_type": "markdown",
   "source": "DATAFRAME - Umgehen mit NaN Werten"
  },
  {
   "metadata": {
    "ExecuteTime": {
     "end_time": "2024-09-13T18:39:32.064392Z",
     "start_time": "2024-09-13T18:39:32.061569Z"
    }
   },
   "cell_type": "code",
   "source": [
    "data_nan = pd.DataFrame({\"A\": [10, np.nan, np.nan, 40], \"B\": [1, np.nan, 3, 4], \"C\": [1, 2, 3, 4]})\n",
    "print(\"DataFrame mit NaN:\")\n",
    "print(data_nan)"
   ],
   "outputs": [
    {
     "name": "stdout",
     "output_type": "stream",
     "text": [
      "DataFrame mit NaN:\n",
      "      A    B  C\n",
      "0  10.0  1.0  1\n",
      "1   NaN  NaN  2\n",
      "2   NaN  3.0  3\n",
      "3  40.0  4.0  4\n"
     ]
    }
   ],
   "execution_count": 218
  },
  {
   "metadata": {
    "ExecuteTime": {
     "end_time": "2024-09-13T18:39:32.079453Z",
     "start_time": "2024-09-13T18:39:32.076792Z"
    }
   },
   "cell_type": "code",
   "source": [
    "print(\"(Blindes) Entfernen aller NaN Werte nach Zeilen:\")\n",
    "print(data_nan.dropna())"
   ],
   "outputs": [
    {
     "name": "stdout",
     "output_type": "stream",
     "text": [
      "(Blindes) Entfernen aller NaN Werte nach Zeilen:\n",
      "      A    B  C\n",
      "0  10.0  1.0  1\n",
      "3  40.0  4.0  4\n"
     ]
    }
   ],
   "execution_count": 219
  },
  {
   "metadata": {
    "ExecuteTime": {
     "end_time": "2024-09-13T18:39:32.128768Z",
     "start_time": "2024-09-13T18:39:32.126230Z"
    }
   },
   "cell_type": "code",
   "source": [
    "print(\"(Blindes) Entfernen aller NaN Werte nach Spalten:\")\n",
    "print(data_nan.dropna(axis=1))"
   ],
   "outputs": [
    {
     "name": "stdout",
     "output_type": "stream",
     "text": [
      "(Blindes) Entfernen aller NaN Werte nach Spalten:\n",
      "   C\n",
      "0  1\n",
      "1  2\n",
      "2  3\n",
      "3  4\n"
     ]
    }
   ],
   "execution_count": 220
  },
  {
   "metadata": {
    "ExecuteTime": {
     "end_time": "2024-09-13T18:39:32.139536Z",
     "start_time": "2024-09-13T18:39:32.136590Z"
    }
   },
   "cell_type": "code",
   "source": [
    "print(\"Behalten nur der Zeilen, die mindestens 2 nicht NaN Werte enthalten:\")\n",
    "print(data_nan.dropna(thresh=2))"
   ],
   "outputs": [
    {
     "name": "stdout",
     "output_type": "stream",
     "text": [
      "Behalten nur der Zeilen, die mindestens 2 nicht NaN Werte enthalten:\n",
      "      A    B  C\n",
      "0  10.0  1.0  1\n",
      "2   NaN  3.0  3\n",
      "3  40.0  4.0  4\n"
     ]
    }
   ],
   "execution_count": 221
  },
  {
   "metadata": {
    "ExecuteTime": {
     "end_time": "2024-09-13T18:39:32.153520Z",
     "start_time": "2024-09-13T18:39:32.151160Z"
    }
   },
   "cell_type": "code",
   "source": [
    "print(\"Ersetzen aller NaN Werte durch 0:\")\n",
    "print(data_nan.fillna(0))"
   ],
   "outputs": [
    {
     "name": "stdout",
     "output_type": "stream",
     "text": [
      "Ersetzen aller NaN Werte durch 0:\n",
      "      A    B  C\n",
      "0  10.0  1.0  1\n",
      "1   0.0  0.0  2\n",
      "2   0.0  3.0  3\n",
      "3  40.0  4.0  4\n"
     ]
    }
   ],
   "execution_count": 222
  },
  {
   "metadata": {
    "ExecuteTime": {
     "end_time": "2024-09-13T18:39:32.189522Z",
     "start_time": "2024-09-13T18:39:32.186944Z"
    }
   },
   "cell_type": "code",
   "source": [
    "print(\"Ersetzen aller NaN Werte in Spalte A durch 0:\")\n",
    "print(data_nan.fillna({\"A\": 0}))"
   ],
   "outputs": [
    {
     "name": "stdout",
     "output_type": "stream",
     "text": [
      "Ersetzen aller NaN Werte in Spalte A durch 0:\n",
      "      A    B  C\n",
      "0  10.0  1.0  1\n",
      "1   0.0  NaN  2\n",
      "2   0.0  3.0  3\n",
      "3  40.0  4.0  4\n"
     ]
    }
   ],
   "execution_count": 223
  },
  {
   "metadata": {},
   "cell_type": "markdown",
   "source": "DATAFRAME - Gruppierung"
  },
  {
   "metadata": {
    "ExecuteTime": {
     "end_time": "2024-09-13T18:39:32.210377Z",
     "start_time": "2024-09-13T18:39:32.201849Z"
    }
   },
   "cell_type": "code",
   "source": [
    "orgs_df = pd.read_csv(\"organizations-1000.csv\")  # s. https://www.datablist.com/learn/csv/download-sample-csv-files\n",
    "print(\"Übersicht der Daten:\")\n",
    "print(orgs_df.head())"
   ],
   "outputs": [
    {
     "name": "stdout",
     "output_type": "stream",
     "text": [
      "Übersicht der Daten:\n",
      "   Index  Organization Id           Name                       Website  \\\n",
      "0      1  E84A904909dF528     Liu-Hoover   http://www.day-hartman.org/   \n",
      "1      2  AAC4f9aBF86EAeF  Orr-Armstrong      https://www.chapman.net/   \n",
      "2      3  ad2eb3C8C24DB87      Gill-Lamb               http://lin.com/   \n",
      "3      4  D76BB12E5eE165B    Bauer-Weiss  https://gillespie-stout.com/   \n",
      "4      5  2F31EddF2Db9aAE    Love-Palmer           https://kramer.com/   \n",
      "\n",
      "                    Country                                   Description  \\\n",
      "0            Western Sahara  Ergonomic zero administration knowledge user   \n",
      "1                   Algeria        Ergonomic radical budgetary management   \n",
      "2             Cote d'Ivoire      Programmable intermediate conglomeration   \n",
      "3  United States of America              Synergistic maximized definition   \n",
      "4                   Denmark                Optimized optimizing moderator   \n",
      "\n",
      "   Founded               Industry  Number of employees  \n",
      "0     1980      Online Publishing                 6852  \n",
      "1     1970        Import / Export                 7994  \n",
      "2     2005      Apparel / Fashion                 5105  \n",
      "3     2015                  Dairy                 9069  \n",
      "4     2010  Management Consulting                 6991  \n"
     ]
    }
   ],
   "execution_count": 224
  },
  {
   "metadata": {
    "ExecuteTime": {
     "end_time": "2024-09-13T18:39:32.226006Z",
     "start_time": "2024-09-13T18:39:32.223176Z"
    }
   },
   "cell_type": "code",
   "source": [
    "print(\"Gruppierung nach Gründungsjahr:\")\n",
    "print(orgs_df.groupby(\"Founded\").size())"
   ],
   "outputs": [
    {
     "name": "stdout",
     "output_type": "stream",
     "text": [
      "Gruppierung nach Gründungsjahr:\n",
      "Founded\n",
      "1970    22\n",
      "1971    18\n",
      "1972    24\n",
      "1973    20\n",
      "1974    13\n",
      "1975    25\n",
      "1976    22\n",
      "1977    12\n",
      "1978    11\n",
      "1979    18\n",
      "1980    15\n",
      "1981    23\n",
      "1982    16\n",
      "1983    18\n",
      "1984    19\n",
      "1985    18\n",
      "1986    17\n",
      "1987    27\n",
      "1988    24\n",
      "1989    16\n",
      "1990    14\n",
      "1991    19\n",
      "1992    16\n",
      "1993    19\n",
      "1994    26\n",
      "1995    17\n",
      "1996    13\n",
      "1997    25\n",
      "1998    27\n",
      "1999    21\n",
      "2000    14\n",
      "2001    17\n",
      "2002    18\n",
      "2003    17\n",
      "2004    17\n",
      "2005    18\n",
      "2006    24\n",
      "2007    21\n",
      "2008    12\n",
      "2009    29\n",
      "2010    19\n",
      "2011    19\n",
      "2012    14\n",
      "2013    24\n",
      "2014    25\n",
      "2015    18\n",
      "2016    27\n",
      "2017    11\n",
      "2018    19\n",
      "2019    25\n",
      "2020    18\n",
      "2021    17\n",
      "2022     2\n",
      "dtype: int64\n"
     ]
    }
   ],
   "execution_count": 225
  },
  {
   "metadata": {
    "ExecuteTime": {
     "end_time": "2024-09-13T18:39:32.268737Z",
     "start_time": "2024-09-13T18:39:32.265550Z"
    }
   },
   "cell_type": "code",
   "source": [
    "print(\"Gruppierung nach Gründungsjahr und absteigend nach index sortiert:\")\n",
    "print(orgs_df.groupby(\"Founded\").size().sort_index(ascending=False))"
   ],
   "outputs": [
    {
     "name": "stdout",
     "output_type": "stream",
     "text": [
      "Gruppierung nach Gründungsjahr und absteigend nach index sortiert:\n",
      "Founded\n",
      "2022     2\n",
      "2021    17\n",
      "2020    18\n",
      "2019    25\n",
      "2018    19\n",
      "2017    11\n",
      "2016    27\n",
      "2015    18\n",
      "2014    25\n",
      "2013    24\n",
      "2012    14\n",
      "2011    19\n",
      "2010    19\n",
      "2009    29\n",
      "2008    12\n",
      "2007    21\n",
      "2006    24\n",
      "2005    18\n",
      "2004    17\n",
      "2003    17\n",
      "2002    18\n",
      "2001    17\n",
      "2000    14\n",
      "1999    21\n",
      "1998    27\n",
      "1997    25\n",
      "1996    13\n",
      "1995    17\n",
      "1994    26\n",
      "1993    19\n",
      "1992    16\n",
      "1991    19\n",
      "1990    14\n",
      "1989    16\n",
      "1988    24\n",
      "1987    27\n",
      "1986    17\n",
      "1985    18\n",
      "1984    19\n",
      "1983    18\n",
      "1982    16\n",
      "1981    23\n",
      "1980    15\n",
      "1979    18\n",
      "1978    11\n",
      "1977    12\n",
      "1976    22\n",
      "1975    25\n",
      "1974    13\n",
      "1973    20\n",
      "1972    24\n",
      "1971    18\n",
      "1970    22\n",
      "dtype: int64\n"
     ]
    }
   ],
   "execution_count": 226
  },
  {
   "metadata": {
    "ExecuteTime": {
     "end_time": "2024-09-13T18:39:32.320868Z",
     "start_time": "2024-09-13T18:39:32.316254Z"
    }
   },
   "cell_type": "code",
   "source": [
    "print(\"Gruppierung nach Gründungsjahr und absteigend nach Werten sortiert:\")\n",
    "print(orgs_df.groupby(\"Founded\").size().sort_values(ascending=False))"
   ],
   "outputs": [
    {
     "name": "stdout",
     "output_type": "stream",
     "text": [
      "Gruppierung nach Gründungsjahr und absteigend nach Werten sortiert:\n",
      "Founded\n",
      "2009    29\n",
      "1998    27\n",
      "1987    27\n",
      "2016    27\n",
      "1994    26\n",
      "1997    25\n",
      "2014    25\n",
      "1975    25\n",
      "2019    25\n",
      "2006    24\n",
      "1972    24\n",
      "2013    24\n",
      "1988    24\n",
      "1981    23\n",
      "1976    22\n",
      "1970    22\n",
      "2007    21\n",
      "1999    21\n",
      "1973    20\n",
      "2018    19\n",
      "2010    19\n",
      "2011    19\n",
      "1993    19\n",
      "1991    19\n",
      "1984    19\n",
      "2015    18\n",
      "1971    18\n",
      "2020    18\n",
      "1979    18\n",
      "1983    18\n",
      "1985    18\n",
      "2002    18\n",
      "2005    18\n",
      "2021    17\n",
      "2004    17\n",
      "2003    17\n",
      "2001    17\n",
      "1986    17\n",
      "1995    17\n",
      "1982    16\n",
      "1989    16\n",
      "1992    16\n",
      "1980    15\n",
      "2000    14\n",
      "2012    14\n",
      "1990    14\n",
      "1996    13\n",
      "1974    13\n",
      "2008    12\n",
      "1977    12\n",
      "2017    11\n",
      "1978    11\n",
      "2022     2\n",
      "dtype: int64\n"
     ]
    }
   ],
   "execution_count": 227
  },
  {
   "metadata": {
    "ExecuteTime": {
     "end_time": "2024-09-13T18:39:32.341453Z",
     "start_time": "2024-09-13T18:39:32.337492Z"
    }
   },
   "cell_type": "code",
   "source": [
    "print(\"Gruppierung nach Gründungsjahr und Sitzland:\")\n",
    "print(orgs_df.groupby([\"Founded\", \"Country\"]).size())"
   ],
   "outputs": [
    {
     "name": "stdout",
     "output_type": "stream",
     "text": [
      "Gruppierung nach Gründungsjahr und Sitzland:\n",
      "Founded  Country                          \n",
      "1970     Algeria                              1\n",
      "         Argentina                            1\n",
      "         Aruba                                1\n",
      "         Bahrain                              1\n",
      "         Bulgaria                             1\n",
      "                                             ..\n",
      "2021     Somalia                              1\n",
      "         Tonga                                1\n",
      "         Vietnam                              1\n",
      "2022     Chile                                1\n",
      "         Heard Island and McDonald Islands    1\n",
      "Length: 965, dtype: int64\n"
     ]
    }
   ],
   "execution_count": 228
  },
  {
   "metadata": {
    "ExecuteTime": {
     "end_time": "2024-09-13T18:39:32.369413Z",
     "start_time": "2024-09-13T18:39:32.366220Z"
    }
   },
   "cell_type": "code",
   "source": [
    "print(\"Durchschnittliche Anzahl an Mitarbeitern nach Sitzland:\")\n",
    "print(orgs_df.groupby(\"Country\")[\"Number of employees\"].mean())"
   ],
   "outputs": [
    {
     "name": "stdout",
     "output_type": "stream",
     "text": [
      "Durchschnittliche Anzahl an Mitarbeitern nach Sitzland:\n",
      "Country\n",
      "Afghanistan          3748.000000\n",
      "Albania              1477.500000\n",
      "Algeria              4986.000000\n",
      "American Samoa       4669.375000\n",
      "Andorra              6098.600000\n",
      "                        ...     \n",
      "Wallis and Futuna    7614.500000\n",
      "Western Sahara       5624.875000\n",
      "Yemen                4528.875000\n",
      "Zambia               5801.666667\n",
      "Zimbabwe             3732.666667\n",
      "Name: Number of employees, Length: 238, dtype: float64\n"
     ]
    }
   ],
   "execution_count": 229
  },
  {
   "metadata": {
    "ExecuteTime": {
     "end_time": "2024-09-13T18:39:32.424620Z",
     "start_time": "2024-09-13T18:39:32.395473Z"
    }
   },
   "cell_type": "code",
   "source": [
    "print(\"Statistische Kennzahlen der Anzahl an Mitarbeitern gruppiert nach Gründungsjahr:\")\n",
    "print(orgs_df.groupby(\"Founded\")[\"Number of employees\"].describe())"
   ],
   "outputs": [
    {
     "name": "stdout",
     "output_type": "stream",
     "text": [
      "Statistische Kennzahlen der Anzahl an Mitarbeitern gruppiert nach Gründungsjahr:\n",
      "         count         mean          std     min      25%     50%      75%  \\\n",
      "Founded                                                                      \n",
      "1970      22.0  4858.545455  2674.516347   313.0  3246.75  4902.0  6653.75   \n",
      "1971      18.0  5479.666667  3135.106340    38.0  3468.00  6077.5  7735.75   \n",
      "1972      24.0  4332.833333  3067.927918    68.0  1743.00  3986.0  6839.75   \n",
      "1973      20.0  5064.600000  2802.089885   795.0  3274.00  4709.5  6804.00   \n",
      "1974      13.0  4254.384615  2524.911666   168.0  3081.00  3389.0  5247.00   \n",
      "1975      25.0  5299.960000  2931.864516    36.0  3238.00  5650.0  7663.00   \n",
      "1976      22.0  4640.909091  3017.683311  1018.0  2487.50  3849.0  5584.50   \n",
      "1977      12.0  3696.083333  3152.877227   321.0  1519.50  2300.0  6594.75   \n",
      "1978      11.0  4261.727273  2957.485760    28.0  2145.50  4953.0  6147.50   \n",
      "1979      18.0  4361.444444  3291.074636   361.0   960.75  3772.0  7558.25   \n",
      "1980      15.0  4630.600000  2876.438914    36.0  2601.00  3512.0  6837.00   \n",
      "1981      23.0  5380.956522  2332.553195   802.0  4679.50  5842.0  7100.00   \n",
      "1982      16.0  4601.687500  2646.990611    20.0  2036.75  4970.5  6130.00   \n",
      "1983      18.0  4666.777778  2593.831859   226.0  2790.50  5038.5  6658.75   \n",
      "1984      19.0  5510.315789  3465.385357   674.0  2503.00  5311.0  9186.00   \n",
      "1985      18.0  6114.722222  2551.790347  1559.0  3719.25  6640.0  8649.25   \n",
      "1986      17.0  5227.235294  2753.959979  1818.0  2835.00  4470.0  8423.00   \n",
      "1987      27.0  5207.925926  2935.874184   481.0  2731.00  4906.0  7684.50   \n",
      "1988      24.0  4906.083333  2992.281141    92.0  2519.75  4313.5  7197.75   \n",
      "1989      16.0  4165.062500  3025.906839   381.0  1986.75  3450.0  5978.75   \n",
      "1990      14.0  5439.714286  2881.050835   730.0  2846.25  6459.0  7706.00   \n",
      "1991      19.0  5474.421053  3196.126011   117.0  2968.50  5245.0  8459.00   \n",
      "1992      16.0  5221.312500  2647.503043    56.0  3754.50  5397.5  7435.50   \n",
      "1993      19.0  5288.736842  2523.869336   765.0  3793.00  5184.0  7135.50   \n",
      "1994      26.0  4387.346154  2678.803643   117.0  2214.25  4800.0  6092.75   \n",
      "1995      17.0  5351.176471  2766.235466   444.0  3836.00  5096.0  7344.00   \n",
      "1996      13.0  5886.153846  2921.893018   404.0  4615.00  6541.0  7532.00   \n",
      "1997      25.0  5287.200000  2625.988020    48.0  3480.00  5943.0  7613.00   \n",
      "1998      27.0  5432.148148  2915.473938   434.0  2764.00  6162.0  7934.50   \n",
      "1999      21.0  4426.952381  3046.969158   499.0  1145.00  4441.0  6702.00   \n",
      "2000      14.0  6275.714286  3569.845082   511.0  3263.25  7671.0  9233.75   \n",
      "2001      17.0  5672.529412  3085.905178   648.0  2726.00  6932.0  8461.00   \n",
      "2002      18.0  4717.277778  2531.113096    95.0  2992.75  4622.5  6632.00   \n",
      "2003      17.0  4370.470588  3174.660614   404.0  2386.00  3274.0  7902.00   \n",
      "2004      17.0  4580.117647  3311.038166    58.0  1175.00  4978.0  6962.00   \n",
      "2005      18.0  4443.777778  3174.137763   305.0  1606.75  4682.5  6940.75   \n",
      "2006      24.0  4293.916667  2493.559180   142.0  3069.25  3582.0  6071.75   \n",
      "2007      21.0  5046.904762  2617.639698  1424.0  2913.00  5033.0  7161.00   \n",
      "2008      12.0  3728.666667  2738.674873   728.0  1579.75  2891.0  5508.75   \n",
      "2009      29.0  4874.206897  2272.659524   934.0  2996.00  4884.0  6285.00   \n",
      "2010      19.0  4298.315789  2945.424079   406.0  1834.00  3583.0  6956.50   \n",
      "2011      19.0  5571.473684  2527.496398  1282.0  3341.00  5972.0  7435.00   \n",
      "2012      14.0  4965.571429  2516.703696   604.0  2772.25  5644.0  6282.00   \n",
      "2013      24.0  5591.791667  2320.500320   157.0  4371.25  5558.5  7457.25   \n",
      "2014      25.0  4692.960000  2658.468552   440.0  3052.00  4354.0  6662.00   \n",
      "2015      18.0  5512.944444  2382.334285  1787.0  3980.75  5767.5  7061.25   \n",
      "2016      27.0  4353.296296  2635.956516   451.0  2367.50  3930.0  6050.50   \n",
      "2017      11.0  4877.818182  3012.019815   723.0  2890.50  4005.0  7809.50   \n",
      "2018      19.0  5895.421053  2759.492532   522.0  4047.00  5547.0  8256.00   \n",
      "2019      25.0  4531.200000  3018.392425     1.0  1971.00  4200.0  7903.00   \n",
      "2020      18.0  5890.777778  2875.202981   131.0  4368.00  6203.0  8363.50   \n",
      "2021      17.0  4288.235294  2529.074597   275.0  2304.00  3921.0  6472.00   \n",
      "2022       2.0  8895.000000    31.112698  8873.0  8884.00  8895.0  8906.00   \n",
      "\n",
      "            max  \n",
      "Founded          \n",
      "1970     9212.0  \n",
      "1971     9950.0  \n",
      "1972     9890.0  \n",
      "1973     9915.0  \n",
      "1974     9716.0  \n",
      "1975     9188.0  \n",
      "1976     9728.0  \n",
      "1977     9237.0  \n",
      "1978     9277.0  \n",
      "1979     9652.0  \n",
      "1980     9592.0  \n",
      "1981     8635.0  \n",
      "1982     9088.0  \n",
      "1983     8145.0  \n",
      "1984     9917.0  \n",
      "1985     9665.0  \n",
      "1986     9376.0  \n",
      "1987     9469.0  \n",
      "1988     9510.0  \n",
      "1989     9666.0  \n",
      "1990     8677.0  \n",
      "1991     9661.0  \n",
      "1992     9151.0  \n",
      "1993     8897.0  \n",
      "1994     9505.0  \n",
      "1995     9808.0  \n",
      "1996     9655.0  \n",
      "1997     8904.0  \n",
      "1998     9941.0  \n",
      "1999     9751.0  \n",
      "2000     9952.0  \n",
      "2001     9737.0  \n",
      "2002     9852.0  \n",
      "2003     9709.0  \n",
      "2004     9684.0  \n",
      "2005     9013.0  \n",
      "2006     8738.0  \n",
      "2007     9419.0  \n",
      "2008     9616.0  \n",
      "2009     8887.0  \n",
      "2010     9656.0  \n",
      "2011     9434.0  \n",
      "2012     8491.0  \n",
      "2013     9329.0  \n",
      "2014     9686.0  \n",
      "2015     9723.0  \n",
      "2016     9497.0  \n",
      "2017     9044.0  \n",
      "2018     9569.0  \n",
      "2019     9774.0  \n",
      "2020     9286.0  \n",
      "2021     9089.0  \n",
      "2022     8917.0  \n"
     ]
    }
   ],
   "execution_count": 230
  },
  {
   "metadata": {
    "ExecuteTime": {
     "end_time": "2024-09-13T18:39:32.451348Z",
     "start_time": "2024-09-13T18:39:32.425456Z"
    }
   },
   "cell_type": "code",
   "source": [
    "print(\"Statistische Kennzahlen der Anzahl an Mitarbeitern gruppiert nach Gründungsjahr (gedreht):\")\n",
    "print(orgs_df.groupby(\"Founded\")[\"Number of employees\"].describe().transpose())"
   ],
   "outputs": [
    {
     "name": "stdout",
     "output_type": "stream",
     "text": [
      "Statistische Kennzahlen der Anzahl an Mitarbeitern gruppiert nach Gründungsjahr (gedreht):\n",
      "Founded         1970         1971         1972         1973         1974  \\\n",
      "count      22.000000    18.000000    24.000000    20.000000    13.000000   \n",
      "mean     4858.545455  5479.666667  4332.833333  5064.600000  4254.384615   \n",
      "std      2674.516347  3135.106340  3067.927918  2802.089885  2524.911666   \n",
      "min       313.000000    38.000000    68.000000   795.000000   168.000000   \n",
      "25%      3246.750000  3468.000000  1743.000000  3274.000000  3081.000000   \n",
      "50%      4902.000000  6077.500000  3986.000000  4709.500000  3389.000000   \n",
      "75%      6653.750000  7735.750000  6839.750000  6804.000000  5247.000000   \n",
      "max      9212.000000  9950.000000  9890.000000  9915.000000  9716.000000   \n",
      "\n",
      "Founded         1975         1976         1977         1978         1979  ...  \\\n",
      "count      25.000000    22.000000    12.000000    11.000000    18.000000  ...   \n",
      "mean     5299.960000  4640.909091  3696.083333  4261.727273  4361.444444  ...   \n",
      "std      2931.864516  3017.683311  3152.877227  2957.485760  3291.074636  ...   \n",
      "min        36.000000  1018.000000   321.000000    28.000000   361.000000  ...   \n",
      "25%      3238.000000  2487.500000  1519.500000  2145.500000   960.750000  ...   \n",
      "50%      5650.000000  3849.000000  2300.000000  4953.000000  3772.000000  ...   \n",
      "75%      7663.000000  5584.500000  6594.750000  6147.500000  7558.250000  ...   \n",
      "max      9188.000000  9728.000000  9237.000000  9277.000000  9652.000000  ...   \n",
      "\n",
      "Founded         2013         2014         2015         2016         2017  \\\n",
      "count      24.000000    25.000000    18.000000    27.000000    11.000000   \n",
      "mean     5591.791667  4692.960000  5512.944444  4353.296296  4877.818182   \n",
      "std      2320.500320  2658.468552  2382.334285  2635.956516  3012.019815   \n",
      "min       157.000000   440.000000  1787.000000   451.000000   723.000000   \n",
      "25%      4371.250000  3052.000000  3980.750000  2367.500000  2890.500000   \n",
      "50%      5558.500000  4354.000000  5767.500000  3930.000000  4005.000000   \n",
      "75%      7457.250000  6662.000000  7061.250000  6050.500000  7809.500000   \n",
      "max      9329.000000  9686.000000  9723.000000  9497.000000  9044.000000   \n",
      "\n",
      "Founded         2018         2019         2020         2021         2022  \n",
      "count      19.000000    25.000000    18.000000    17.000000     2.000000  \n",
      "mean     5895.421053  4531.200000  5890.777778  4288.235294  8895.000000  \n",
      "std      2759.492532  3018.392425  2875.202981  2529.074597    31.112698  \n",
      "min       522.000000     1.000000   131.000000   275.000000  8873.000000  \n",
      "25%      4047.000000  1971.000000  4368.000000  2304.000000  8884.000000  \n",
      "50%      5547.000000  4200.000000  6203.000000  3921.000000  8895.000000  \n",
      "75%      8256.000000  7903.000000  8363.500000  6472.000000  8906.000000  \n",
      "max      9569.000000  9774.000000  9286.000000  9089.000000  8917.000000  \n",
      "\n",
      "[8 rows x 53 columns]\n"
     ]
    }
   ],
   "execution_count": 231
  },
  {
   "metadata": {},
   "cell_type": "markdown",
   "source": "DATAFRAME - Daten analysieren"
  },
  {
   "metadata": {
    "ExecuteTime": {
     "end_time": "2024-09-13T18:39:32.454356Z",
     "start_time": "2024-09-13T18:39:32.452325Z"
    }
   },
   "cell_type": "code",
   "source": [
    "print(\"Anzahl der Zeilen und Spalten:\")\n",
    "print(orgs_df.shape)"
   ],
   "outputs": [
    {
     "name": "stdout",
     "output_type": "stream",
     "text": [
      "Anzahl der Zeilen und Spalten:\n",
      "(1000, 9)\n"
     ]
    }
   ],
   "execution_count": 232
  },
  {
   "metadata": {
    "ExecuteTime": {
     "end_time": "2024-09-13T18:39:32.458941Z",
     "start_time": "2024-09-13T18:39:32.456944Z"
    }
   },
   "cell_type": "code",
   "source": [
    "print(\"Einzigartige Werte in der Spalte Country:\")\n",
    "print(orgs_df[\"Country\"].unique())"
   ],
   "outputs": [
    {
     "name": "stdout",
     "output_type": "stream",
     "text": [
      "Einzigartige Werte in der Spalte Country:\n",
      "['Western Sahara' 'Algeria' \"Cote d'Ivoire\" 'United States of America'\n",
      " 'Denmark' 'Norfolk Island' 'Uzbekistan' 'Israel' 'Syrian Arab Republic'\n",
      " 'Angola' 'Iran' 'Afghanistan' 'Bulgaria' 'French Southern Territories'\n",
      " 'Timor-Leste' 'Serbia' 'Hungary' 'Canada' 'Yemen' 'Jamaica'\n",
      " 'Marshall Islands' 'Greenland' 'Iraq' 'Bhutan' 'Thailand' 'Guadeloupe'\n",
      " 'Maldives' 'Seychelles' 'Myanmar'\n",
      " 'Antarctica (the territory South of 60 deg S)' 'Liechtenstein'\n",
      " 'Falkland Islands (Malvinas)' 'Jersey' 'Palestinian Territory' 'Botswana'\n",
      " 'Christmas Island' 'Chad' 'Puerto Rico' 'Suriname' 'Sri Lanka'\n",
      " 'Heard Island and McDonald Islands' 'Vietnam' 'Namibia'\n",
      " 'Dominican Republic' 'Chile' 'Nigeria'\n",
      " 'South Georgia and the South Sandwich Islands' 'Cyprus' 'Bahrain'\n",
      " 'Indonesia' 'South Africa' 'Egypt' 'Brazil' 'Norway' 'Grenada' 'Bahamas'\n",
      " 'Morocco' 'Samoa' 'Czech Republic' 'Peru' 'Lesotho' 'Qatar' 'Lithuania'\n",
      " 'Central African Republic' 'American Samoa'\n",
      " 'Holy See (Vatican City State)' 'Turkmenistan' 'Mozambique' 'Lebanon'\n",
      " 'Antigua and Barbuda' 'Tonga' 'Guam' 'Guyana'\n",
      " \"Lao People's Democratic Republic\" 'Eritrea' 'Cocos (Keeling) Islands'\n",
      " 'Burundi' 'Venezuela' 'Nepal' 'Brunei Darussalam' 'Micronesia' 'Comoros'\n",
      " 'Tunisia' 'Belarus' 'Senegal' 'France' 'Philippines' 'Djibouti'\n",
      " 'Singapore' 'British Indian Ocean Territory (Chagos Archipelago)' 'Oman'\n",
      " 'Solomon Islands' 'Malaysia' 'Korea' 'El Salvador' 'Saudi Arabia'\n",
      " 'Rwanda' 'Ecuador' 'New Zealand' 'Tanzania' 'Portugal' 'India'\n",
      " 'United Kingdom' 'Georgia' 'Vanuatu' 'Congo' 'Azerbaijan' 'Somalia'\n",
      " 'Tuvalu' 'Svalbard & Jan Mayen Islands' 'Sudan' 'Nauru'\n",
      " 'French Polynesia' 'Costa Rica' 'Kazakhstan' 'Taiwan' 'Haiti'\n",
      " 'Switzerland' 'Moldova' 'French Guiana' 'Gambia' 'Zimbabwe' 'Benin'\n",
      " 'Croatia' 'Nicaragua' 'Cambodia' 'Swaziland' 'Pakistan' 'Ethiopia'\n",
      " 'Colombia' 'Tajikistan' 'Libyan Arab Jamahiriya' 'Austria'\n",
      " 'United Arab Emirates' 'Argentina' 'Guatemala' 'Uganda' 'Cayman Islands'\n",
      " 'Faroe Islands' 'Ukraine' 'Netherlands Antilles' 'Kyrgyz Republic'\n",
      " 'Uruguay' 'Germany' 'United States Minor Outlying Islands' 'Aruba'\n",
      " 'Saint Martin' 'China' 'Saint Pierre and Miquelon'\n",
      " 'Saint Vincent and the Grenadines' 'United States Virgin Islands'\n",
      " 'Turks and Caicos Islands' 'Kenya' 'Mauritius' 'Mexico'\n",
      " 'Russian Federation' 'Malawi' 'Barbados' 'Guinea-Bissau' 'Cook Islands'\n",
      " 'Slovenia' 'Niger' 'Saint Helena' 'Cape Verde' 'Niue' 'Italy'\n",
      " 'Pitcairn Islands' 'Papua New Guinea' 'Guernsey' 'Cameroon' 'Gabon'\n",
      " 'Greece' 'Australia' 'Finland' 'Gibraltar' 'Jordan' 'Andorra'\n",
      " 'Sao Tome and Principe' 'Spain' 'Anguilla' 'Estonia' 'Palau'\n",
      " 'Wallis and Futuna' 'Mayotte' 'Ghana' 'Honduras' 'Macedonia' 'Monaco'\n",
      " 'Togo' 'Sierra Leone' 'Kiribati' 'Zambia' 'Mauritania' 'Romania' 'Macao'\n",
      " 'Montserrat' 'Isle of Man' 'Liberia' 'Martinique' 'Bangladesh'\n",
      " 'Luxembourg' 'Netherlands' 'Bouvet Island (Bouvetoya)' 'Belgium'\n",
      " 'Saint Barthelemy' 'Sweden' 'Trinidad and Tobago'\n",
      " 'Northern Mariana Islands' 'Cuba' 'Mali' 'British Virgin Islands'\n",
      " 'Latvia' 'Hong Kong' 'Albania' 'Saint Lucia' 'Bolivia' 'Poland'\n",
      " 'Montenegro' 'San Marino' 'Tokelau' 'Japan' 'Madagascar' 'Turkey' 'Malta'\n",
      " 'New Caledonia' 'Saint Kitts and Nevis' 'Burkina Faso' 'Fiji' 'Iceland'\n",
      " 'Mongolia' 'Reunion' 'Dominica' 'Ireland' 'Slovakia (Slovak Republic)'\n",
      " 'Guinea' 'Panama' 'Belize' 'Armenia']\n"
     ]
    }
   ],
   "execution_count": 233
  },
  {
   "metadata": {
    "ExecuteTime": {
     "end_time": "2024-09-13T18:39:32.500852Z",
     "start_time": "2024-09-13T18:39:32.498579Z"
    }
   },
   "cell_type": "code",
   "source": [
    "print(\"Duplikate in der Spalte Name:\")\n",
    "print(orgs_df[\"Name\"].duplicated().sum())"
   ],
   "outputs": [
    {
     "name": "stdout",
     "output_type": "stream",
     "text": [
      "Duplikate in der Spalte Name:\n",
      "12\n"
     ]
    }
   ],
   "execution_count": 234
  },
  {
   "metadata": {
    "ExecuteTime": {
     "end_time": "2024-09-13T18:39:32.528823Z",
     "start_time": "2024-09-13T18:39:32.525017Z"
    }
   },
   "cell_type": "code",
   "source": [
    "print(\"Duplikate entfernen (über alle Spalten hinweg):\")\n",
    "print(orgs_df.drop_duplicates)"
   ],
   "outputs": [
    {
     "name": "stdout",
     "output_type": "stream",
     "text": [
      "Duplikate entfernen (über alle Spalten hinweg):\n",
      "<bound method DataFrame.drop_duplicates of      Index  Organization Id                       Name  \\\n",
      "0        1  E84A904909dF528                 Liu-Hoover   \n",
      "1        2  AAC4f9aBF86EAeF              Orr-Armstrong   \n",
      "2        3  ad2eb3C8C24DB87                  Gill-Lamb   \n",
      "3        4  D76BB12E5eE165B                Bauer-Weiss   \n",
      "4        5  2F31EddF2Db9aAE                Love-Palmer   \n",
      "..     ...              ...                        ...   \n",
      "995    996  e5CEc38aa9A580b              Bullock Group   \n",
      "996    997  cEF9B4675E4bBd0                  Mason Inc   \n",
      "997    998  9abEb8aaFd25E04           Houston and Sons   \n",
      "998    999  de5Fc71DE825bFc              Olson-Solomon   \n",
      "999   1000  3ddb89ecD83B533  Maddox, Owen and Shepherd   \n",
      "\n",
      "                          Website                   Country  \\\n",
      "0     http://www.day-hartman.org/            Western Sahara   \n",
      "1        https://www.chapman.net/                   Algeria   \n",
      "2                 http://lin.com/             Cote d'Ivoire   \n",
      "3    https://gillespie-stout.com/  United States of America   \n",
      "4             https://kramer.com/                   Denmark   \n",
      "..                            ...                       ...   \n",
      "995   https://medina-bernard.com/              Turkmenistan   \n",
      "996     https://franco-walls.com/  United States of America   \n",
      "997             http://mcgee.com/                     Kenya   \n",
      "998             https://koch.com/   Cocos (Keeling) Islands   \n",
      "999     https://www.hamilton.com/                    Guinea   \n",
      "\n",
      "                                      Description  Founded  \\\n",
      "0    Ergonomic zero administration knowledge user     1980   \n",
      "1          Ergonomic radical budgetary management     1970   \n",
      "2        Programmable intermediate conglomeration     2005   \n",
      "3                Synergistic maximized definition     2015   \n",
      "4                  Optimized optimizing moderator     2010   \n",
      "..                                            ...      ...   \n",
      "995            Public-key scalable conglomeration     1998   \n",
      "996                Distributed exuding initiative     2015   \n",
      "997            Stand-alone multi-state neural-net     1981   \n",
      "998                  Virtual responsive moderator     2013   \n",
      "999        Reactive bottom-line pricing structure     2019   \n",
      "\n",
      "                         Industry  Number of employees  \n",
      "0               Online Publishing                 6852  \n",
      "1                 Import / Export                 7994  \n",
      "2               Apparel / Fashion                 5105  \n",
      "3                           Dairy                 9069  \n",
      "4           Management Consulting                 6991  \n",
      "..                            ...                  ...  \n",
      "995                Wine / Spirits                 6547  \n",
      "996               Law Enforcement                 9723  \n",
      "997   Civic / Social Organization                 5355  \n",
      "998  Investment Banking / Venture                 3825  \n",
      "999                     Animation                 4467  \n",
      "\n",
      "[1000 rows x 9 columns]>\n"
     ]
    }
   ],
   "execution_count": 235
  },
  {
   "metadata": {},
   "cell_type": "markdown",
   "source": "DATAFRAME - Daten manipulieren"
  },
  {
   "metadata": {
    "ExecuteTime": {
     "end_time": "2024-09-13T18:39:32.559213Z",
     "start_time": "2024-09-13T18:39:32.556985Z"
    }
   },
   "cell_type": "code",
   "source": [
    "print(\"Numerische Spalten:\")\n",
    "print(orgs_df.select_dtypes(include=[np.number]).columns)"
   ],
   "outputs": [
    {
     "name": "stdout",
     "output_type": "stream",
     "text": [
      "Numerische Spalten:\n",
      "Index(['Index', 'Founded', 'Number of employees'], dtype='object')\n"
     ]
    }
   ],
   "execution_count": 236
  },
  {
   "metadata": {
    "ExecuteTime": {
     "end_time": "2024-09-13T18:39:32.590638Z",
     "start_time": "2024-09-13T18:39:32.588151Z"
    }
   },
   "cell_type": "code",
   "source": [
    "print(\"Nicht-numerische Spalten:\")\n",
    "print(orgs_df.select_dtypes(exclude=[np.number]).columns)"
   ],
   "outputs": [
    {
     "name": "stdout",
     "output_type": "stream",
     "text": [
      "Nicht-numerische Spalten:\n",
      "Index(['Organization Id', 'Name', 'Website', 'Country', 'Description',\n",
      "       'Industry'],\n",
      "      dtype='object')\n"
     ]
    }
   ],
   "execution_count": 237
  },
  {
   "metadata": {
    "ExecuteTime": {
     "end_time": "2024-09-13T18:39:32.633564Z",
     "start_time": "2024-09-13T18:39:32.630818Z"
    }
   },
   "cell_type": "code",
   "source": [
    "print(\"Numerische Spalte mit Wert multiplizieren:\")\n",
    "orgs_df[\"Number of employees Multiplied\"] = orgs_df[\"Number of employees\"] * 1000\n",
    "print(orgs_df[\"Number of employees Multiplied\"].head())"
   ],
   "outputs": [
    {
     "name": "stdout",
     "output_type": "stream",
     "text": [
      "Numerische Spalte mit Wert multiplizieren:\n",
      "0    6852000\n",
      "1    7994000\n",
      "2    5105000\n",
      "3    9069000\n",
      "4    6991000\n",
      "Name: Number of employees Multiplied, dtype: int64\n"
     ]
    }
   ],
   "execution_count": 238
  },
  {
   "metadata": {
    "ExecuteTime": {
     "end_time": "2024-09-13T18:39:32.646443Z",
     "start_time": "2024-09-13T18:39:32.643725Z"
    }
   },
   "cell_type": "code",
   "source": [
    "print(\"Nicht numerische Spalte in Großbuchstaben umwandeln:\")\n",
    "orgs_df[\"Country\"] = orgs_df[\"Country\"].str.upper()\n",
    "print(orgs_df[\"Country\"].head())"
   ],
   "outputs": [
    {
     "name": "stdout",
     "output_type": "stream",
     "text": [
      "Nicht numerische Spalte in Großbuchstaben umwandeln:\n",
      "0              WESTERN SAHARA\n",
      "1                     ALGERIA\n",
      "2               COTE D'IVOIRE\n",
      "3    UNITED STATES OF AMERICA\n",
      "4                     DENMARK\n",
      "Name: Country, dtype: object\n"
     ]
    }
   ],
   "execution_count": 239
  },
  {
   "metadata": {},
   "cell_type": "markdown",
   "source": "DATAFRAME - Daten mittels Funktionen manipulieren"
  },
  {
   "metadata": {
    "ExecuteTime": {
     "end_time": "2024-09-13T18:39:32.666209Z",
     "start_time": "2024-09-13T18:39:32.659088Z"
    }
   },
   "cell_type": "code",
   "source": [
    "def land_vor_name_schreiben(row):\n",
    "    return row[\"Country\"] + \" - \" + row[\"Name\"]\n",
    "\n",
    "print(\"Neue Spalte mit Land vor Name:\")\n",
    "orgs_df[\"Country - Name\"] = orgs_df.apply(land_vor_name_schreiben, axis=1)\n",
    "print(orgs_df[\"Country - Name\"].head())"
   ],
   "outputs": [
    {
     "name": "stdout",
     "output_type": "stream",
     "text": [
      "Neue Spalte mit Land vor Name:\n",
      "0               WESTERN SAHARA - Liu-Hoover\n",
      "1                   ALGERIA - Orr-Armstrong\n",
      "2                 COTE D'IVOIRE - Gill-Lamb\n",
      "3    UNITED STATES OF AMERICA - Bauer-Weiss\n",
      "4                     DENMARK - Love-Palmer\n",
      "Name: Country - Name, dtype: object\n"
     ]
    }
   ],
   "execution_count": 240
  },
  {
   "metadata": {
    "ExecuteTime": {
     "end_time": "2024-09-13T18:39:52.515122Z",
     "start_time": "2024-09-13T18:39:52.502016Z"
    }
   },
   "cell_type": "code",
   "source": [
    "def anzahl_mitarbeiter_kategorie(row):\n",
    "    if row[\"Number of employees\"] < 100:\n",
    "        return \"Klein\"\n",
    "    elif row[\"Number of employees\"] < 1000:\n",
    "        return \"Mittel\"\n",
    "    else:\n",
    "        return \"Groß\"\n",
    "    \n",
    "print(\"Neue Spalte mit Kategorie der Anzahl an Mitarbeitern:\")\n",
    "orgs_df[\"Employee category\"] = orgs_df.apply(anzahl_mitarbeiter_kategorie, axis=1)\n",
    "print(orgs_df.groupby(\"Employee category\").size())"
   ],
   "outputs": [
    {
     "name": "stdout",
     "output_type": "stream",
     "text": [
      "Neue Spalte mit Kategorie der Anzahl an Mitarbeitern:\n",
      "Employee category\n",
      "Groß      907\n",
      "Klein      12\n",
      "Mittel     81\n",
      "dtype: int64\n"
     ]
    }
   ],
   "execution_count": 242
  },
  {
   "metadata": {
    "ExecuteTime": {
     "end_time": "2024-09-13T18:39:32.720944Z",
     "start_time": "2024-09-13T18:39:32.719605Z"
    }
   },
   "cell_type": "code",
   "source": "",
   "outputs": [],
   "execution_count": 241
  }
 ],
 "metadata": {
  "kernelspec": {
   "display_name": "Python 3",
   "language": "python",
   "name": "python3"
  },
  "language_info": {
   "codemirror_mode": {
    "name": "ipython",
    "version": 3
   },
   "file_extension": ".py",
   "mimetype": "text/x-python",
   "name": "python",
   "nbconvert_exporter": "python",
   "pygments_lexer": "ipython3",
   "version": "3.6.4"
  }
 },
 "nbformat": 4,
 "nbformat_minor": 2
}
