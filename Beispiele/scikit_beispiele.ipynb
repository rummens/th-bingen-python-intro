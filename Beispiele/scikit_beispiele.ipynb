{
 "cells": [
  {
   "metadata": {},
   "cell_type": "markdown",
   "source": [
    "### 1. **Klassifikation** (Classification)\n",
    "**Spam-Erkennung**: Ein Modell kann mithilfe eines Datensatzes trainiert werden, um E-Mails in „Spam“ und „Nicht-Spam“ zu klassifizieren. Ein Algorithmus wie Support Vector Machines (SVM) oder Naive Bayes wird dafür häufig verwendet.\n"
   ],
   "id": "590e9f7a45968db5"
  },
  {
   "metadata": {
    "ExecuteTime": {
     "end_time": "2024-09-14T14:46:07.921524Z",
     "start_time": "2024-09-14T14:46:07.910133Z"
    }
   },
   "cell_type": "code",
   "source": [
    "from sklearn.naive_bayes import MultinomialNB\n",
    "from sklearn.feature_extraction.text import CountVectorizer\n",
    "from sklearn.model_selection import cross_val_score\n",
    "\n",
    "# Beispiel-Datensatz: E-Mails (Training)\n",
    "emails = ['This is spam', 'You won a prize', 'Hello, how are you?', 'Spam offer!']\n",
    "labels = [1, 1, 0, 1]  # 1 = Spam, 0 = Nicht-Spam\n",
    "\n",
    "# Text in numerische Merkmale umwandeln (Bag-of-Words Modell)\n",
    "vectorizer = CountVectorizer()\n",
    "X = vectorizer.fit_transform(emails)\n",
    "\n",
    "# Naive Bayes Modell für die Klassifikation\n",
    "model = MultinomialNB()\n",
    "\n",
    "# Kreuzvalidierung mit n_splits=2 (aufgrund der kleinen Datenmenge)\n",
    "scores = cross_val_score(model, X, labels, cv=2)  # Genauigkeit des Modells\n",
    "print(\"Kreuzvalidierungs-Score:\", scores)  # Die Genauigkeit liegt bei ungefähr 50 %, dies ist ein sehr schlechtes Modell\n",
    "\n",
    "# Neue E-Mails zum Testen (als Liste)\n",
    "new_emails = ['Win a free trip to Paris!', 'Can we schedule a meeting?', 'Good Morning!']\n",
    "\n",
    "# Die neuen E-Mails in numerische Merkmale umwandeln (gleicher Vektorizer wie für das Training)\n",
    "new_X = vectorizer.transform(new_emails)\n",
    "\n",
    "# Modell auf den gesamten Datensatz trainieren\n",
    "model.fit(X, labels)\n",
    "\n",
    "# Vorhersage für neue E-Mails\n",
    "predictions = model.predict(new_X)\n",
    "print(\"Vorhersagen für neue E-Mails:\", predictions)\n",
    "\n",
    "# Vorhersagen interpretieren: 1 = Spam, 0 = Nicht-Spam\n",
    "for email, prediction in zip(new_emails, predictions):\n",
    "    print(f\"Email: '{email}' - {'Spam' if prediction == 1 else 'Nicht-Spam'}\")\n"
   ],
   "id": "711c759357c42c05",
   "outputs": [
    {
     "name": "stdout",
     "output_type": "stream",
     "text": [
      "Kreuzvalidierungs-Score: [0.5 0.5]\n",
      "Vorhersagen für neue E-Mails: [1 1 1]\n",
      "Email: 'Win a free trip to Paris!' - Spam\n",
      "Email: 'Can we schedule a meeting?' - Spam\n",
      "Email: 'Good Morning!' - Spam\n"
     ]
    },
    {
     "name": "stderr",
     "output_type": "stream",
     "text": [
      "/Users/university/anaconda3/lib/python3.11/site-packages/sklearn/model_selection/_split.py:725: UserWarning: The least populated class in y has only 1 members, which is less than n_splits=2.\n",
      "  warnings.warn(\n"
     ]
    }
   ],
   "execution_count": 15
  },
  {
   "metadata": {},
   "cell_type": "markdown",
   "source": [
    "### 2. **Regression**\n",
    "**Vorhersage von Immobilienpreisen**: Ein Modell kann trainiert werden, um anhand von Merkmalen wie Fläche, Zimmeranzahl und Standort den Preis einer Immobilie vorherzusagen. Hier wird häufig ein Algorithmus wie die lineare Regression verwendet.\n"
   ],
   "id": "89a870351ab741c9"
  },
  {
   "metadata": {
    "ExecuteTime": {
     "end_time": "2024-09-14T14:37:05.162654Z",
     "start_time": "2024-09-14T14:37:05.158763Z"
    }
   },
   "cell_type": "code",
   "source": [
    "from sklearn.linear_model import LinearRegression\n",
    "import numpy as np\n",
    "\n",
    "# Beispiel-Daten\n",
    "X = np.array([[100, 2], [150, 3], [200, 4]])  # Quadratmeter, Anzahl Zimmer\n",
    "y = np.array([200000, 300000, 400000])  # Immobilienpreise\n",
    "\n",
    "# Modell erstellen und trainieren\n",
    "model = LinearRegression()\n",
    "model.fit(X, y)\n",
    "\n",
    "# Vorhersage für ein neues Haus\n",
    "new_house = np.array([[120, 3]])\n",
    "price_prediction = model.predict(new_house)\n",
    "print(price_prediction)\n"
   ],
   "id": "260b0c484553041c",
   "outputs": [
    {
     "name": "stdout",
     "output_type": "stream",
     "text": [
      "[240023.99040384]\n"
     ]
    }
   ],
   "execution_count": 4
  },
  {
   "metadata": {},
   "cell_type": "markdown",
   "source": [
    "### 3. **Clusteranalyse**\n",
    "**Kundensegmentierung**: Scikit-learn kann verwendet werden, um Kunden basierend auf Merkmalen wie Kaufverhalten in verschiedene Gruppen zu segmentieren. Der K-Means-Algorithmus ist hierbei häufig im Einsatz.\n"
   ],
   "id": "493a5caa95af3c2b"
  },
  {
   "metadata": {
    "ExecuteTime": {
     "end_time": "2024-09-14T14:37:17.233991Z",
     "start_time": "2024-09-14T14:37:16.620233Z"
    }
   },
   "cell_type": "code",
   "source": [
    "from sklearn.cluster import KMeans\n",
    "import numpy as np\n",
    "\n",
    "# Beispiel-Daten: Einkäufe in Euro\n",
    "data = np.array([[100, 200], [120, 220], [250, 300], [400, 500]])\n",
    "\n",
    "# K-Means-Clustering\n",
    "kmeans = KMeans(n_clusters=2)\n",
    "kmeans.fit(data)\n",
    "\n",
    "# Cluster-Zuordnungen\n",
    "cluster_labels = kmeans.labels_\n",
    "print(cluster_labels)"
   ],
   "id": "e76276ba47c51eb7",
   "outputs": [
    {
     "name": "stderr",
     "output_type": "stream",
     "text": [
      "/Users/university/anaconda3/lib/python3.11/site-packages/sklearn/cluster/_kmeans.py:1412: FutureWarning: The default value of `n_init` will change from 10 to 'auto' in 1.4. Set the value of `n_init` explicitly to suppress the warning\n",
      "  super()._check_params_vs_input(X, default_n_init=10)\n"
     ]
    },
    {
     "name": "stdout",
     "output_type": "stream",
     "text": [
      "[0 0 0 1]\n"
     ]
    }
   ],
   "execution_count": 5
  },
  {
   "metadata": {},
   "cell_type": "markdown",
   "source": [
    "### 4. **Dimensionsreduktion** (PCA – Hauptkomponentenanalyse)\n",
    "**Bildkomprimierung**: Durch die Reduktion der Anzahl der Pixel in einem Bild kann Speicherplatz gespart werden, ohne dass viel Information verloren geht. Scikit-learn verwendet hier die Hauptkomponentenanalyse (PCA), um die Dimensionen zu reduzieren.\n"
   ],
   "id": "293ac2ef9a115bc0"
  },
  {
   "metadata": {
    "ExecuteTime": {
     "end_time": "2024-09-14T14:38:00.021394Z",
     "start_time": "2024-09-14T14:38:00.017577Z"
    }
   },
   "cell_type": "code",
   "source": [
    "from sklearn.decomposition import PCA\n",
    "import numpy as np\n",
    "\n",
    "# Beispiel-Daten: Bild-Pixel (4 Bilder mit je 6 Pixeln)\n",
    "images = np.array([[0, 1, 0, 1, 0, 1], [1, 0, 1, 0, 1, 0], [0, 1, 1, 0, 0, 1], [1, 0, 0, 1, 1, 0]])\n",
    "\n",
    "# PCA durchführen und die Daten auf 2 Dimensionen reduzieren\n",
    "pca = PCA(n_components=2)\n",
    "reduced_images = pca.fit_transform(images)\n",
    "print(reduced_images)"
   ],
   "id": "c5bdb0028fdab38c",
   "outputs": [
    {
     "name": "stdout",
     "output_type": "stream",
     "text": [
      "[[-1.         -0.70710678]\n",
      " [ 1.          0.70710678]\n",
      " [-1.          0.70710678]\n",
      " [ 1.         -0.70710678]]\n"
     ]
    }
   ],
   "execution_count": 7
  },
  {
   "metadata": {},
   "cell_type": "markdown",
   "source": [
    "### 5. **Modellbewertung**\n",
    "**Kreuzvalidierung**: Scikit-learn bietet die Möglichkeit, ein Modell durch Kreuzvalidierung zu bewerten, um sicherzustellen, dass es nicht überangepasst ist.\n"
   ],
   "id": "d966abfdabb1e3c8"
  },
  {
   "metadata": {
    "ExecuteTime": {
     "end_time": "2024-09-14T14:39:39.507668Z",
     "start_time": "2024-09-14T14:39:39.404677Z"
    }
   },
   "cell_type": "code",
   "source": [
    "from sklearn.model_selection import cross_val_score\n",
    "from sklearn.ensemble import RandomForestClassifier\n",
    "\n",
    "# Beispiel-Daten\n",
    "X = [[1, 2], [3, 4], [1, 1], [4, 5]]\n",
    "y = [0, 1, 0, 1]\n",
    "\n",
    "# Random Forest Modell\n",
    "model = RandomForestClassifier()\n",
    "\n",
    "# Kreuzvalidierung mit n_splits=2\n",
    "scores = cross_val_score(model, X, y, cv=2)\n",
    "print(scores)"
   ],
   "id": "e2c39062828a58ac",
   "outputs": [
    {
     "name": "stdout",
     "output_type": "stream",
     "text": [
      "[1. 1.]\n"
     ]
    }
   ],
   "execution_count": 10
  }
 ],
 "metadata": {
  "kernelspec": {
   "display_name": "Python 3",
   "language": "python",
   "name": "python3"
  },
  "language_info": {
   "codemirror_mode": {
    "name": "ipython",
    "version": 2
   },
   "file_extension": ".py",
   "mimetype": "text/x-python",
   "name": "python",
   "nbconvert_exporter": "python",
   "pygments_lexer": "ipython2",
   "version": "2.7.6"
  }
 },
 "nbformat": 4,
 "nbformat_minor": 5
}
